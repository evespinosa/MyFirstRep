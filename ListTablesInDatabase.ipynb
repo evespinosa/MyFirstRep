{
 "cells": [
  {
   "cell_type": "code",
   "execution_count": 5,
   "metadata": {},
   "outputs": [
    {
     "name": "stdout",
     "output_type": "stream",
     "text": [
      "H_Game\n",
      "H_Player\n",
      "H_Team\n",
      "L_Game_Team\n",
      "L_Team_Player\n",
      "S_Game_Details\n",
      "S_Game_Statistics\n",
      "S_Game_Team_Statistics\n",
      "Source_L_Game_Team\n",
      "Source_L_Team_Player\n",
      "Source_S_Game_Details\n"
     ]
    }
   ],
   "source": [
    "import sqlite3\n",
    "\n",
    "# Connect to the SQLite database\n",
    "conn = sqlite3.connect('D:/AFL_GRP/DataBase/AFLDataVault.db')\n",
    "# conn=sqlite3.connect('D:/AFL_GRP/DataBase/AFLStats.db')\n",
    "cursor = conn.cursor()\n",
    "\n",
    "# Query to get a list of all tables\n",
    "cursor.execute(\"SELECT name FROM sqlite_master WHERE type='table' order by 1;\")\n",
    "\n",
    "# Fetch all results\n",
    "tables = cursor.fetchall()\n",
    "\n",
    "# Print the list of tables\n",
    "for table in tables:\n",
    "    print(table[0])\n",
    "\n",
    "# Close the connection\n",
    "conn.close()\n"
   ]
  }
 ],
 "metadata": {
  "kernelspec": {
   "display_name": "venv",
   "language": "python",
   "name": "venv"
  },
  "language_info": {
   "codemirror_mode": {
    "name": "ipython",
    "version": 3
   },
   "file_extension": ".py",
   "mimetype": "text/x-python",
   "name": "python",
   "nbconvert_exporter": "python",
   "pygments_lexer": "ipython3",
   "version": "3.11.5"
  }
 },
 "nbformat": 4,
 "nbformat_minor": 2
}
